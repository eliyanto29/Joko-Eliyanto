{
  "nbformat": 4,
  "nbformat_minor": 0,
  "metadata": {
    "colab": {
      "name": "1.variabel dan tipe data.ipynb",
      "provenance": [],
      "include_colab_link": true
    },
    "kernelspec": {
      "name": "python3",
      "display_name": "Python 3"
    },
    "accelerator": "GPU"
  },
  "cells": [
    {
      "cell_type": "markdown",
      "metadata": {
        "id": "view-in-github",
        "colab_type": "text"
      },
      "source": [
        "<a href=\"https://colab.research.google.com/github/eliyanto29/Joko-Eliyanto/blob/master/1_variabel_dan_tipe_data.ipynb\" target=\"_parent\"><img src=\"https://colab.research.google.com/assets/colab-badge.svg\" alt=\"Open In Colab\"/></a>"
      ]
    },
    {
      "cell_type": "markdown",
      "metadata": {
        "id": "dJi3X6tqbLWp"
      },
      "source": [
        "# **MATERI 1**\n",
        "\n",
        "---\n",
        "\n",
        "# **VARIABEL DAN TIPE DATA**"
      ]
    },
    {
      "cell_type": "markdown",
      "metadata": {
        "id": "HmMgxbNnTe_w"
      },
      "source": [
        "# **1. Variabel**\n",
        "*   Variabel merupakan tempat penyimpanan data atau nilai\n",
        "*   Sebuah variabel dalam python bisa diisi dengan berbagai tipe data\n",
        "*   Nama sebuah variabel tidak bisa diawali dengan angka/numerik\n",
        "*   Nama sebuah variabel selain keyword dari bahasa python\n",
        "*   Format variabel : Nama_variabel = data/nilai\n",
        "\n",
        "\n",
        "\n",
        "\n",
        "\n",
        "\n"
      ]
    },
    {
      "cell_type": "markdown",
      "metadata": {
        "id": "QppqWZI1ZqRC"
      },
      "source": [
        "**a.   Membuat sebuah variabel dengan berbagai tipe data dan struktur data Python**\n",
        "\n"
      ]
    },
    {
      "cell_type": "code",
      "metadata": {
        "id": "LJB107RBXVtj"
      },
      "source": [
        "var1 = 'Hello World!' #String\n",
        "var2 = 1234567890 # int\n",
        "var3 = 0.123456789 # float\n",
        "var4 = True #bool\n",
        "var5 = 1j+1 #complex\n",
        "var6 = [1,2,3,4] # list\n",
        "var7 = (1,2,3,4) # tuple\n",
        "var8 = {1,2,3,4} # set\n",
        "var9 ={\"angka\":[1,2,3,4]} #dictonary"
      ],
      "execution_count": null,
      "outputs": []
    },
    {
      "cell_type": "markdown",
      "metadata": {
        "id": "s6qlKpt4aFyY"
      },
      "source": [
        "**b. Memanggil variabel**"
      ]
    },
    {
      "cell_type": "code",
      "metadata": {
        "id": "eFMF-Y0DYqz3",
        "outputId": "fde9970e-f62d-4a77-fee1-4aa43c7c0272",
        "colab": {
          "base_uri": "https://localhost:8080/",
          "height": 168
        }
      },
      "source": [
        "print(var1) #tipe data string\n",
        "print(var2) #tipe data integer\n",
        "print(var3) #tipe data float\n",
        "print(var4) #tipe data boolean\n",
        "print(var5) #tipe data Complex\n",
        "print(var6) #struktur list yang berisi tipe data integer\n",
        "print(var7) #struktur tuple yang berisi tipe data integer\n",
        "print(var8) #struktur set yang berisi tipe data integer\n",
        "print(var9) #struktur dictonary yang berisi tipe data integer"
      ],
      "execution_count": null,
      "outputs": [
        {
          "output_type": "stream",
          "text": [
            "Hello World!\n",
            "1234567890\n",
            "0.123456789\n",
            "True\n",
            "(1+1j)\n",
            "[1, 2, 3, 4]\n",
            "(1, 2, 3, 4)\n",
            "{1, 2, 3, 4}\n",
            "{'angka': [1, 2, 3, 4]}\n"
          ],
          "name": "stdout"
        }
      ]
    },
    {
      "cell_type": "markdown",
      "metadata": {
        "id": "igq7wls7cc9S"
      },
      "source": [
        "## **2. TIPE DATA DAN STRUKTUR**\n",
        "*   Tipe data dan struktur dalam python berguna untuk mengidentifikasikan sebuah data atau nilai \n",
        "*   Tipe data dan struktur mempunyai sifatnya masing-masing (akan dibahas masing-masing dimateri selanjutnya)\n",
        "\n",
        "**TIPE DATA:**\n",
        "1.   String\n",
        "2.   Number (Integer, Float, Complex, Boolean)\n",
        "**STRUKTUR DATA:**\n",
        "1.   List\n",
        "2.   Tuple\n",
        "3.   Set\n",
        "4.   Dictonary"
      ]
    },
    {
      "cell_type": "markdown",
      "metadata": {
        "id": "3c0DftUniD13"
      },
      "source": [
        "**a. Melihat Tipe data dan Struktur data dari variabel**"
      ]
    },
    {
      "cell_type": "code",
      "metadata": {
        "id": "IvA_aPw3bDzd",
        "outputId": "b3e439b4-ad4d-4aa8-897e-8199cc78ea21",
        "colab": {
          "base_uri": "https://localhost:8080/",
          "height": 163
        }
      },
      "source": [
        "print(var1,'Tipe data var1:', type(var1))\n",
        "print(var2,'Tipe data var2:', type(var2))\n",
        "print(var3,'Tipe data var3:', type(var3))\n",
        "print(var4,'Tipe data var4:', type(var4))\n",
        "print(var5,'Tipe data var5:', type(var5))\n",
        "print(var6,'Struktur data var6:', type(var6))\n",
        "print(var7,'Struktur data var7:', type(var7))\n",
        "print(var8,'Struktur data var8:', type(var8))\n",
        "print(var9,'Struktur data var9:', type(var9))"
      ],
      "execution_count": null,
      "outputs": [
        {
          "output_type": "stream",
          "text": [
            "Hello World! Tipe data var1: <class 'str'>\n",
            "1234567890 Tipe data var2: <class 'int'>\n",
            "0.123456789 Tipe data var3: <class 'float'>\n",
            "True Tipe data var4: <class 'bool'>\n",
            "(1+1j) Tipe data var5: <class 'complex'>\n",
            "[1, 2, 3, 4] Struktur data var6: <class 'list'>\n",
            "(1, 2, 3, 4) Struktur data var7: <class 'tuple'>\n",
            "{1, 2, 3, 4} Struktur data var8: <class 'set'>\n",
            "{'angka': [1, 2, 3, 4]} Struktur data var9: <class 'dict'>\n"
          ],
          "name": "stdout"
        }
      ]
    },
    {
      "cell_type": "markdown",
      "metadata": {
        "id": "6xZOX93IxQ98"
      },
      "source": [
        "# **2.1 KONVERSI TIPE DATA**\n",
        "\n",
        "Fungsi untuk mengubah/konversi tipe data:\n",
        "\n",
        "a. int() : untuk mengubah menjadi integer\n",
        "\n",
        "b. float() : untuk mengubah menjadi float\n",
        "\n",
        "c. str() : untuk mengubah menjadi string\n",
        "\n",
        "d. bool() : untuk mengubah menjadi boolean\n",
        "\n",
        "e. long() : untuk mengubah menjadi integer panjang\n",
        "\n",
        "f. chr() : untuk mengubah menjadi karakter\n",
        "\n",
        "g. bin() : untuk mengubah menjadi bilangan biner\n",
        "\n",
        "h. hex() : untuk mengubah menjadi bilangan Heksadesimal\n",
        "\n",
        "i. oct() : untuk mengubah menjadi bilangan okta\n",
        "\n",
        "\n",
        "\n"
      ]
    },
    {
      "cell_type": "markdown",
      "metadata": {
        "id": "J5QzIPyv0I27"
      },
      "source": [
        "**2.1.1 TIPE DATA AWAL BERUPA INTEGER**"
      ]
    },
    {
      "cell_type": "code",
      "metadata": {
        "id": "wIvbVwE1irH9",
        "outputId": "7f023309-aca9-4916-fc87-007cabac1606",
        "colab": {
          "base_uri": "https://localhost:8080/",
          "height": 34
        }
      },
      "source": [
        "number = 10\n",
        "print(\"data =\", number, \", type =\", type(number))"
      ],
      "execution_count": null,
      "outputs": [
        {
          "output_type": "stream",
          "text": [
            "data = 10 , type = <class 'int'>\n"
          ],
          "name": "stdout"
        }
      ]
    },
    {
      "cell_type": "code",
      "metadata": {
        "id": "QChZNuX7y8tb",
        "outputId": "9d95527d-042b-45a5-c777-c37da2198615",
        "colab": {
          "base_uri": "https://localhost:8080/",
          "height": 69
        }
      },
      "source": [
        "# Mengkonversi tipe data integer\n",
        "kon_float = float(number)\n",
        "kon_str = str(number)\n",
        "kon_bool = bool(number) #False jika integer = 0, lainnya True (perhatikan hasilnya)\n",
        "\n",
        "# Melihat data yang telah dikonversi\n",
        "print(\"data = \", kon_float , \",type =\", type(kon_float))\n",
        "print(\"data = \", kon_str , \",type =\", type(kon_str))\n",
        "print(\"data = \", kon_bool , \",type =\", type(kon_bool))"
      ],
      "execution_count": null,
      "outputs": [
        {
          "output_type": "stream",
          "text": [
            "data =  10.0 ,type = <class 'float'>\n",
            "data =  10 ,type = <class 'str'>\n",
            "data =  True ,type = <class 'bool'>\n"
          ],
          "name": "stdout"
        }
      ]
    },
    {
      "cell_type": "code",
      "metadata": {
        "id": "M5tJDSAB2owV",
        "outputId": "c6be8fc5-49b2-46e9-93a6-290d67a99992",
        "colab": {
          "base_uri": "https://localhost:8080/",
          "height": 33
        }
      },
      "source": [
        "# Konversi integer boolean akan menghasilkan False jika integernya 0\n",
        "bool1 = 0\n",
        "kon_bool1 = bool(bool1)\n",
        "print(\"data = \", kon_bool1 , \",type =\", type(kon_bool1))"
      ],
      "execution_count": null,
      "outputs": [
        {
          "output_type": "stream",
          "text": [
            "data =  False ,type = <class 'bool'>\n"
          ],
          "name": "stdout"
        }
      ]
    },
    {
      "cell_type": "markdown",
      "metadata": {
        "id": "q0SuFDX42HNO"
      },
      "source": [
        "**2.1.2 TIPE DATA AWAL BERUPA FLOAT**"
      ]
    },
    {
      "cell_type": "code",
      "metadata": {
        "id": "uPxq6Xb_2GKO",
        "outputId": "6a110be2-e3a9-411f-eded-f91c6d9c874d",
        "colab": {
          "base_uri": "https://localhost:8080/",
          "height": 35
        }
      },
      "source": [
        "float1 = 5.5\n",
        "print(\"data =\", float1, \", type =\", type(float1))"
      ],
      "execution_count": null,
      "outputs": [
        {
          "output_type": "stream",
          "text": [
            "data = 5.5 , type = <class 'float'>\n"
          ],
          "name": "stdout"
        }
      ]
    },
    {
      "cell_type": "code",
      "metadata": {
        "id": "YlgnGk_Q03Dx",
        "outputId": "8f5ad107-4541-46a1-dc83-51c6e25103b1",
        "colab": {
          "base_uri": "https://localhost:8080/",
          "height": 69
        }
      },
      "source": [
        "# Mengkonversi tipe data float\n",
        "kon_int = int(float1)\n",
        "kon_str = str(float1)\n",
        "kon_bool = bool(float1) #False jika float = 0, lainnya True (perhatikan hasilnya)\n",
        "\n",
        "# Melihat data yang telah dikonversi\n",
        "print(\"data = \", kon_int , \",type =\", type(kon_int))\n",
        "print(\"data = \", kon_str , \",type =\", type(kon_str))\n",
        "print(\"data = \", kon_bool , \",type =\", type(kon_bool))"
      ],
      "execution_count": null,
      "outputs": [
        {
          "output_type": "stream",
          "text": [
            "data =  5 ,type = <class 'int'>\n",
            "data =  5.5 ,type = <class 'str'>\n",
            "data =  True ,type = <class 'bool'>\n"
          ],
          "name": "stdout"
        }
      ]
    },
    {
      "cell_type": "markdown",
      "metadata": {
        "id": "6Djmvn-_45St"
      },
      "source": [
        "**2.1.3 TIPE DATA AWAL BERUPA BOOLEAN**"
      ]
    },
    {
      "cell_type": "code",
      "metadata": {
        "id": "VljMd3Pp41Qm",
        "outputId": "1ebcab80-4b80-4f68-9d28-1e0fc2eb7507",
        "colab": {
          "base_uri": "https://localhost:8080/",
          "height": 35
        }
      },
      "source": [
        "bool1 = True\n",
        "print(\"data =\", bool1, \", type =\", type(bool1))"
      ],
      "execution_count": null,
      "outputs": [
        {
          "output_type": "stream",
          "text": [
            "data = True , type = <class 'bool'>\n"
          ],
          "name": "stdout"
        }
      ]
    },
    {
      "cell_type": "code",
      "metadata": {
        "id": "eroK5o3I5Ges",
        "outputId": "3439fa4b-3638-4d27-d15c-db2f1b5c0507",
        "colab": {
          "base_uri": "https://localhost:8080/",
          "height": 69
        }
      },
      "source": [
        "# Mengkonversi tipe data boolean\n",
        "kon_int = int(bool1) #True = 1 and False = 0\n",
        "kon_str = str(bool1)\n",
        "kon_float = float(bool1) #True = 1.0 and False = 0.0\n",
        "\n",
        "# Melihat data yang telah dikonversi\n",
        "print(\"data = \", kon_int , \",type =\", type(kon_int))\n",
        "print(\"data = \", kon_str , \",type =\", type(kon_str))\n",
        "print(\"data = \", kon_float , \",type =\", type(kon_float))"
      ],
      "execution_count": null,
      "outputs": [
        {
          "output_type": "stream",
          "text": [
            "data =  1 ,type = <class 'int'>\n",
            "data =  True ,type = <class 'str'>\n",
            "data =  1.0 ,type = <class 'float'>\n"
          ],
          "name": "stdout"
        }
      ]
    },
    {
      "cell_type": "markdown",
      "metadata": {
        "id": "OYb3G0u07_vD"
      },
      "source": [
        "**2.1.4 TIPE DATA AWAL BERUPA STRING**"
      ]
    },
    {
      "cell_type": "code",
      "metadata": {
        "id": "8MPkdKe_7DZQ",
        "outputId": "c9716d74-af5f-456e-e47a-1d52e6a0d680",
        "colab": {
          "base_uri": "https://localhost:8080/",
          "height": 35
        }
      },
      "source": [
        "str1 = '10'\n",
        "print(\"data = \", str1 , \",type =\", type(str1))"
      ],
      "execution_count": null,
      "outputs": [
        {
          "output_type": "stream",
          "text": [
            "data =  10 ,type = <class 'str'>\n"
          ],
          "name": "stdout"
        }
      ]
    },
    {
      "cell_type": "code",
      "metadata": {
        "id": "II2Et-o58oeC",
        "outputId": "97fc4668-5c1f-4d2d-c8b3-321b5ba64621",
        "colab": {
          "base_uri": "https://localhost:8080/",
          "height": 69
        }
      },
      "source": [
        "# Mengkonversi tipe data string\n",
        "kon_int = int(str1) #string akan diubah ke interger jika nilai berupa angka, jika berupa karakter maka akan error\n",
        "kon_bool = bool(str1) #akan \"False\" jika nilai dari string kosong\n",
        "kon_float = float(str1) #string akan diubah ke float jika nilai berupa angka, jika berupa karakter maka akan error\n",
        "\n",
        "# Melihat data yang telah dikonversi\n",
        "print(\"data = \", kon_int , \",type =\", type(kon_int))\n",
        "print(\"data = \", kon_bool , \",type =\", type(kon_bool))\n",
        "print(\"data = \", kon_float , \",type =\", type(kon_float))"
      ],
      "execution_count": null,
      "outputs": [
        {
          "output_type": "stream",
          "text": [
            "data =  10 ,type = <class 'int'>\n",
            "data =  True ,type = <class 'bool'>\n",
            "data =  10.0 ,type = <class 'float'>\n"
          ],
          "name": "stdout"
        }
      ]
    },
    {
      "cell_type": "markdown",
      "metadata": {
        "id": "lMgIb-HH-wKH"
      },
      "source": [
        "# **2.2 KONVERSI STRUKTUR DATA**\n",
        "\n",
        "Fungsi untuk mengubah/konversi struktur data:\n",
        "\n",
        "a. list() : untuk mengubah menjadi list\n",
        "\n",
        "b. tuple() : untuk mengubah menjadi tuple\n",
        "\n",
        "c. set() : untuk mengubah menjadi set\n",
        "\n",
        "d. dict() : untuk mengubah menjadi dictonary\n",
        "\n"
      ]
    },
    {
      "cell_type": "markdown",
      "metadata": {
        "id": "AEQBrdtyAXdu"
      },
      "source": [
        "**2.2.1 STRUKTUR DATA AWAL BERUPA LIST**"
      ]
    },
    {
      "cell_type": "code",
      "metadata": {
        "id": "Clfok1nl9RJG",
        "outputId": "1fed901d-454e-4028-f2f2-c11a474c9658",
        "colab": {
          "base_uri": "https://localhost:8080/",
          "height": 33
        }
      },
      "source": [
        "list1 = [1,2,3,4,5]\n",
        "list2 = [\"satu\",\"dua\",\"tiga\",\"empat\",\"lima\"]\n",
        "print(\"data = \", list1 , \",type =\", type(list1))"
      ],
      "execution_count": null,
      "outputs": [
        {
          "output_type": "stream",
          "text": [
            "data =  [1, 2, 3, 4, 5] ,type = <class 'list'>\n"
          ],
          "name": "stdout"
        }
      ]
    },
    {
      "cell_type": "code",
      "metadata": {
        "id": "YaPy14kh_LQ_",
        "outputId": "f0318cf8-3019-46ce-9b3d-25cdf1b78952",
        "colab": {
          "base_uri": "https://localhost:8080/",
          "height": 66
        }
      },
      "source": [
        "# Mengkonversi struktur data list\n",
        "kon_tuple = tuple(list1)\n",
        "kon_set = set(list1)\n",
        "kon_dict = dict(zip(list2,list1))\n",
        "\n",
        "# Melihat data yang telah dikonversi\n",
        "print(kon_tuple)\n",
        "print(kon_set)\n",
        "print(kon_dict)"
      ],
      "execution_count": null,
      "outputs": [
        {
          "output_type": "stream",
          "text": [
            "(1, 2, 3, 4, 5)\n",
            "{1, 2, 3, 4, 5}\n",
            "{'satu': 1, 'dua': 2, 'tiga': 3, 'empat': 4, 'lima': 5}\n"
          ],
          "name": "stdout"
        }
      ]
    },
    {
      "cell_type": "markdown",
      "metadata": {
        "id": "2MR7_uqEFDXD"
      },
      "source": [
        "**2.2.2 STRUKTUR DATA AWAL BERUPA TUPLE**"
      ]
    },
    {
      "cell_type": "code",
      "metadata": {
        "id": "67mNVY5m_Y4d",
        "outputId": "bbc196fd-6d23-40e5-c9f9-275284c18175",
        "colab": {
          "base_uri": "https://localhost:8080/",
          "height": 33
        }
      },
      "source": [
        "tuple1 = (1,2,3,4,5)\n",
        "tuple2 = (\"satu\",\"dua\",\"tiga\",\"empat\",\"lima\")\n",
        "print(\"data = \", tuple1 , \",type =\", type(tuple1))"
      ],
      "execution_count": null,
      "outputs": [
        {
          "output_type": "stream",
          "text": [
            "data =  (1, 2, 3, 4, 5) ,type = <class 'tuple'>\n"
          ],
          "name": "stdout"
        }
      ]
    },
    {
      "cell_type": "code",
      "metadata": {
        "id": "Jh3a7KVBFuYz",
        "outputId": "21bcdc40-9c92-450a-c113-e246df4feaed",
        "colab": {
          "base_uri": "https://localhost:8080/",
          "height": 66
        }
      },
      "source": [
        "# Mengkonversi struktur data tuple\n",
        "kon_list = list(tuple1)\n",
        "kon_set = set(tuple1)\n",
        "kon_dict = dict(zip(tuple2,tuple1))\n",
        "\n",
        "# Melihat data yang telah dikonversi\n",
        "print(kon_list)\n",
        "print(kon_set)\n",
        "print(kon_dict)"
      ],
      "execution_count": null,
      "outputs": [
        {
          "output_type": "stream",
          "text": [
            "[1, 2, 3, 4, 5]\n",
            "{1, 2, 3, 4, 5}\n",
            "{'satu': 1, 'dua': 2, 'tiga': 3, 'empat': 4, 'lima': 5}\n"
          ],
          "name": "stdout"
        }
      ]
    },
    {
      "cell_type": "markdown",
      "metadata": {
        "id": "Bs4_potHGWKA"
      },
      "source": [
        "**2.2.3 STRUKTUR DATA AWAL BERUPA SET**"
      ]
    },
    {
      "cell_type": "code",
      "metadata": {
        "id": "8SuhB7ytGZtT",
        "outputId": "6d6d384a-7749-4f85-e29c-97898289fe83",
        "colab": {
          "base_uri": "https://localhost:8080/",
          "height": 33
        }
      },
      "source": [
        "set1 = {1,2,3,4,5}\n",
        "set2 = {\"satu\",\"dua\",\"tiga\",\"empat\",\"lima\"}\n",
        "print(\"data = \", set1 , \",type =\", type(set1))"
      ],
      "execution_count": null,
      "outputs": [
        {
          "output_type": "stream",
          "text": [
            "data =  {1, 2, 3, 4, 5} ,type = <class 'set'>\n"
          ],
          "name": "stdout"
        }
      ]
    },
    {
      "cell_type": "code",
      "metadata": {
        "id": "UlkSXqw6Gpqd",
        "outputId": "e2c8df4c-58da-49a2-e470-15543ceaaf14",
        "colab": {
          "base_uri": "https://localhost:8080/",
          "height": 66
        }
      },
      "source": [
        "# Mengkonversi struktur data set\n",
        "kon_list = list(set1)\n",
        "kon_tuple = tuple(set1)\n",
        "kon_dict = dict(zip(set2,set1))\n",
        "\n",
        "# Melihat data yang telah dikonversi\n",
        "print(kon_list)\n",
        "print(kon_tuple)\n",
        "print(kon_dict)"
      ],
      "execution_count": null,
      "outputs": [
        {
          "output_type": "stream",
          "text": [
            "[1, 2, 3, 4, 5]\n",
            "(1, 2, 3, 4, 5)\n",
            "{'dua': 1, 'tiga': 2, 'satu': 3, 'empat': 4, 'lima': 5}\n"
          ],
          "name": "stdout"
        }
      ]
    },
    {
      "cell_type": "markdown",
      "metadata": {
        "id": "jptcj3TrHCxu"
      },
      "source": [
        "**2.2.4 STRUKTUR DATA AWAL BERUPA DICTONARY**"
      ]
    },
    {
      "cell_type": "code",
      "metadata": {
        "id": "6CfBqPaVHX7O",
        "outputId": "bcdd7bb2-5da6-4575-94d3-15f3f9485a43",
        "colab": {
          "base_uri": "https://localhost:8080/",
          "height": 33
        }
      },
      "source": [
        "dict1 = {\n",
        "    'satu': 1,\n",
        "    'dua': 2,\n",
        "    'tiga': 3,\n",
        "    'empat': 4,\n",
        "    'lima': 5\n",
        "}\n",
        "\n",
        "print(dict1)"
      ],
      "execution_count": null,
      "outputs": [
        {
          "output_type": "stream",
          "text": [
            "{'satu': 1, 'dua': 2, 'tiga': 3, 'empat': 4, 'lima': 5}\n"
          ],
          "name": "stdout"
        }
      ]
    },
    {
      "cell_type": "code",
      "metadata": {
        "id": "Z3SdKd_9Iper",
        "outputId": "6afe105e-d01b-4935-cd98-04e8328742dd",
        "colab": {
          "base_uri": "https://localhost:8080/",
          "height": 115
        }
      },
      "source": [
        "# Membuat variabel untuk menampung keys dan values dari dictonary\n",
        "konversi1 = dict1.keys()\n",
        "konversi2 = dict1.values()\n",
        "\n",
        "# Mengkonversi struktur data dictonary\n",
        "kon_list1 = list(konversi1)\n",
        "kon_list2 = list(konversi2)\n",
        "kon_tuple1 = tuple(konversi1)\n",
        "kon_tuple2 = tuple(konversi2)\n",
        "kon_set1 = set(konversi1)\n",
        "kon_set2 = set(konversi2)\n",
        "\n",
        "# Melihat data yang telah dikonversi\n",
        "print(kon_list1)\n",
        "print(kon_list2)\n",
        "print(kon_tuple1)\n",
        "print(kon_tuple2)\n",
        "print(kon_set1)\n",
        "print(kon_set2)"
      ],
      "execution_count": null,
      "outputs": [
        {
          "output_type": "stream",
          "text": [
            "['satu', 'dua', 'tiga', 'empat', 'lima']\n",
            "[1, 2, 3, 4, 5]\n",
            "('satu', 'dua', 'tiga', 'empat', 'lima')\n",
            "(1, 2, 3, 4, 5)\n",
            "{'dua', 'tiga', 'satu', 'empat', 'lima'}\n",
            "{1, 2, 3, 4, 5}\n"
          ],
          "name": "stdout"
        }
      ]
    },
    {
      "cell_type": "code",
      "metadata": {
        "id": "OMjAYs20JoD5"
      },
      "source": [
        ""
      ],
      "execution_count": null,
      "outputs": []
    }
  ]
}